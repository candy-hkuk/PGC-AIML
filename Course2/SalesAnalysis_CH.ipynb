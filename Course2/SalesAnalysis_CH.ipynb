{
  "cells": [
    {
      "cell_type": "markdown",
      "id": "47be9d6a-1475-450d-83e2-6f5db5bd6e1e",
      "metadata": {
        "id": "47be9d6a-1475-450d-83e2-6f5db5bd6e1e"
      },
      "source": [
        "# Course 2 Final Project: Sales Analysis\n",
        "\n",
        "## Project Statement\n",
        "AAL of Australia is currently experiencing a surge in business."
      ]
    },
    {
      "cell_type": "code",
      "execution_count": null,
      "id": "f46b03fd-d663-4f88-a069-0100096868cf",
      "metadata": {
        "id": "f46b03fd-d663-4f88-a069-0100096868cf"
      },
      "outputs": [],
      "source": []
    },
    {
      "cell_type": "markdown",
      "source": [],
      "metadata": {
        "id": "v1NTEqFIN5OD"
      },
      "id": "v1NTEqFIN5OD"
    }
  ],
  "metadata": {
    "kernelspec": {
      "display_name": "Python 3 (ipykernel)",
      "language": "python",
      "name": "python3"
    },
    "language_info": {
      "codemirror_mode": {
        "name": "ipython",
        "version": 3
      },
      "file_extension": ".py",
      "mimetype": "text/x-python",
      "name": "python",
      "nbconvert_exporter": "python",
      "pygments_lexer": "ipython3",
      "version": "3.12.3"
    },
    "colab": {
      "provenance": []
    }
  },
  "nbformat": 4,
  "nbformat_minor": 5
}