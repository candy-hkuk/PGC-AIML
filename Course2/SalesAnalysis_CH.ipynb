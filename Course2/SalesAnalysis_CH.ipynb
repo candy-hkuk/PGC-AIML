{
 "cells": [
  {
   "cell_type": "markdown",
   "id": "47be9d6a-1475-450d-83e2-6f5db5bd6e1e",
   "metadata": {},
   "source": [
    "# Sales Analysis\n",
    "## Course 2 - Applied Data Science with Python Course End Project"
   ]
  },
  {
   "cell_type": "code",
   "execution_count": null,
   "id": "f46b03fd-d663-4f88-a069-0100096868cf",
   "metadata": {},
   "outputs": [],
   "source": []
  }
 ],
 "metadata": {
  "kernelspec": {
   "display_name": "Python 3 (ipykernel)",
   "language": "python",
   "name": "python3"
  },
  "language_info": {
   "codemirror_mode": {
    "name": "ipython",
    "version": 3
   },
   "file_extension": ".py",
   "mimetype": "text/x-python",
   "name": "python",
   "nbconvert_exporter": "python",
   "pygments_lexer": "ipython3",
   "version": "3.12.3"
  }
 },
 "nbformat": 4,
 "nbformat_minor": 5
}
