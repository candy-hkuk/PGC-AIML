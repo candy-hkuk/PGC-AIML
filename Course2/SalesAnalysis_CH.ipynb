{
  "cells": [
    {
      "cell_type": "markdown",
      "id": "47be9d6a-1475-450d-83e2-6f5db5bd6e1e",
      "metadata": {
        "id": "47be9d6a-1475-450d-83e2-6f5db5bd6e1e"
      },
      "source": [
        "# Course 2 Final Project: Sales Analysis\n",
        "\n",
        "## Project Statement\n",
        "AAL of Australia, established in 2000, is particularly recognised locally for its clothing business. It has stores in numerous locations spanning states, metropolises, tier-1 and tier-2 cities across Australia.\n",
        "\n",
        "The customer demograpphic starts from kids all the way to the elderly.\n",
        "\n",
        "With the current surge in business, AAL is actively looking into informed investment opportunities that will lead to corporate expansions.\n",
        "\n",
        "Available data are derived AAL's fourth quarter sales in Australia."
      ]
    },
    {
      "cell_type": "code",
      "execution_count": null,
      "id": "f46b03fd-d663-4f88-a069-0100096868cf",
      "metadata": {
        "id": "f46b03fd-d663-4f88-a069-0100096868cf"
      },
      "outputs": [],
      "source": []
    },
    {
      "cell_type": "markdown",
      "source": [
        "## Data Wrangling\n"
      ],
      "metadata": {
        "id": "v1NTEqFIN5OD"
      },
      "id": "v1NTEqFIN5OD"
    },
    {
      "cell_type": "code",
      "source": [
        "# Check for missing or incorrect data"
      ],
      "metadata": {
        "id": "CWlgvoxRa_lE"
      },
      "id": "CWlgvoxRa_lE",
      "execution_count": null,
      "outputs": []
    },
    {
      "cell_type": "code",
      "source": [
        "# Normalize or Standardize Data"
      ],
      "metadata": {
        "id": "J17MtpcrbmjM"
      },
      "id": "J17MtpcrbmjM",
      "execution_count": null,
      "outputs": []
    },
    {
      "cell_type": "code",
      "source": [
        "# Chunking Recommendations"
      ],
      "metadata": {
        "id": "x_NLTlwMbxbu"
      },
      "id": "x_NLTlwMbxbu",
      "execution_count": null,
      "outputs": []
    },
    {
      "cell_type": "markdown",
      "source": [
        "## Data Analysis\n"
      ],
      "metadata": {
        "id": "NswVPGIwbAVc"
      },
      "id": "NswVPGIwbAVc"
    },
    {
      "cell_type": "code",
      "source": [
        "# Descriptive Statistical Analysis on Sales and Unit"
      ],
      "metadata": {
        "id": "0gWBaQMMbE19"
      },
      "id": "0gWBaQMMbE19",
      "execution_count": null,
      "outputs": []
    },
    {
      "cell_type": "code",
      "source": [
        "# Find Group with the highest and lowest sales"
      ],
      "metadata": {
        "id": "g5WomnNOdJBb"
      },
      "id": "g5WomnNOdJBb",
      "execution_count": null,
      "outputs": []
    },
    {
      "cell_type": "code",
      "source": [
        "# Generate weekly, monthly and quarterly reports"
      ],
      "metadata": {
        "id": "6F1cd9ayeBFC"
      },
      "id": "6F1cd9ayeBFC",
      "execution_count": null,
      "outputs": []
    },
    {
      "cell_type": "markdown",
      "source": [
        "## Data Visualization"
      ],
      "metadata": {
        "id": "iwjUZCEzbFNq"
      },
      "id": "iwjUZCEzbFNq"
    },
    {
      "cell_type": "markdown",
      "source": [
        "Dashboard should contain daily, weekly, monthly and quarterly charts"
      ],
      "metadata": {
        "id": "ye3uo_lRfLVx"
      },
      "id": "ye3uo_lRfLVx"
    },
    {
      "cell_type": "code",
      "source": [
        "# State-wise sales analysis for different demographics (kids, women, men and seniors)"
      ],
      "metadata": {
        "id": "JsX4Eiw1bJcG"
      },
      "id": "JsX4Eiw1bJcG",
      "execution_count": null,
      "outputs": []
    },
    {
      "cell_type": "code",
      "source": [
        "# Group-wise sales analysis (kids, women, men and seniors) across states"
      ],
      "metadata": {
        "id": "xFekaTtsedqQ"
      },
      "id": "xFekaTtsedqQ",
      "execution_count": null,
      "outputs": []
    },
    {
      "cell_type": "code",
      "source": [
        "# Time-of-the-day analysis: peak/off-peak sales periods (for strategic planning for S&M teams, i.e. hyper-personalization and nezt best offers)"
      ],
      "metadata": {
        "id": "C6sYZQ0Gepng"
      },
      "id": "C6sYZQ0Gepng",
      "execution_count": null,
      "outputs": []
    },
    {
      "cell_type": "markdown",
      "source": [],
      "metadata": {
        "id": "wFwywEIbbKBQ"
      },
      "id": "wFwywEIbbKBQ"
    }
  ],
  "metadata": {
    "kernelspec": {
      "display_name": "Python 3 (ipykernel)",
      "language": "python",
      "name": "python3"
    },
    "language_info": {
      "codemirror_mode": {
        "name": "ipython",
        "version": 3
      },
      "file_extension": ".py",
      "mimetype": "text/x-python",
      "name": "python",
      "nbconvert_exporter": "python",
      "pygments_lexer": "ipython3",
      "version": "3.12.3"
    },
    "colab": {
      "provenance": []
    }
  },
  "nbformat": 4,
  "nbformat_minor": 5
}