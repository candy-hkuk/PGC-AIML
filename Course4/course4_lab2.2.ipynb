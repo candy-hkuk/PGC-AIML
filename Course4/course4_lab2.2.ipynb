{
 "cells": [
  {
   "cell_type": "markdown",
   "id": "99638fa7-e74f-47a5-83b9-cefb694dfe23",
   "metadata": {
    "id": "99638fa7-e74f-47a5-83b9-cefb694dfe23"
   },
   "source": [
    "# CNN with TensorFlow"
   ]
  },
  {
   "cell_type": "code",
   "execution_count": null,
   "id": "cff702bd-a382-49cc-b291-ca10946848ac",
   "metadata": {
    "id": "cff702bd-a382-49cc-b291-ca10946848ac"
   },
   "outputs": [],
   "source": [
    "# When using docker tensorflow/tensorflow:latest-juypter\n",
    "!pip install --trusted-host pypi.org --trusted-host pypi.python.org --trusted-host files.pythonhosted.org scikit-learn pandas"
   ]
  },
  {
   "cell_type": "markdown",
   "id": "32ebddff-9711-4a94-9cc8-2bd6c2f40a8d",
   "metadata": {
    "id": "32ebddff-9711-4a94-9cc8-2bd6c2f40a8d"
   },
   "source": [
    "### Initialize the Kernel"
   ]
  },
  {
   "cell_type": "code",
   "execution_count": null,
   "id": "a89e9bf8-5f31-469c-8271-6b9c4b619ee4",
   "metadata": {
    "id": "a89e9bf8-5f31-469c-8271-6b9c4b619ee4"
   },
   "outputs": [],
   "source": [
    "# mute Hardware optimzation messages\n",
    "import os\n",
    "os.environ[\"TF_CPP_MIN_LOG_LEVEL\"] = '1'"
   ]
  },
  {
   "cell_type": "code",
   "execution_count": 2,
   "id": "c5bdc4c6-6054-4d40-b9b6-f149af315ed0",
   "metadata": {
    "id": "c5bdc4c6-6054-4d40-b9b6-f149af315ed0"
   },
   "outputs": [],
   "source": [
    "# import required libraries\n",
    "import tensorflow as tf\n",
    "from IPython.display import Markdown, display\n",
    "\n",
    "def printmd(string):\n",
    "    display(Markdown('# <span style=\"color:red\">'+string+'</span>'))"
   ]
  },
  {
   "cell_type": "markdown",
   "id": "6a84fe37-ca8c-47d6-a764-3acdb754bd82",
   "metadata": {
    "id": "6a84fe37-ca8c-47d6-a764-3acdb754bd82"
   },
   "source": [
    "## 1st part: classify MNIST using simple model\n",
    "This MNIST dataset is a collection of 60000 handwritten digits and 10000 testing samples from the much larger NIST dataset. They have been size-normalized and centered in a fixed-size image for developer training.\n",
    "\n",
    "The first model is a simple Multi-layer perceptron (a type of Neural Network) to perform classification tasks."
   ]
  },
  {
   "cell_type": "code",
   "execution_count": 3,
   "id": "28e0d97a-d6be-4a67-b4bb-35a186e25ae7",
   "metadata": {
    "id": "28e0d97a-d6be-4a67-b4bb-35a186e25ae7"
   },
   "outputs": [],
   "source": [
    "# Import the dataset from TensorFlow\n",
    "mnist = tf.keras.datasets.mnist\n",
    "(x_train, y_train), (x_test, y_test) = mnist.load_data()"
   ]
  },
  {
   "cell_type": "code",
   "execution_count": 4,
   "id": "701287e1-a5a8-4a9c-825c-768280f80e64",
   "metadata": {
    "id": "701287e1-a5a8-4a9c-825c-768280f80e64"
   },
   "outputs": [],
   "source": [
    "# Normalize the data to improve optimization performance\n",
    "x_train, x_test = x_train /255.0, x_test /255.0"
   ]
  },
  {
   "cell_type": "code",
   "execution_count": 5,
   "id": "885292f0-3bb3-492e-8727-33a52d8cbd7a",
   "metadata": {
    "colab": {
     "base_uri": "https://localhost:8080/"
    },
    "id": "885292f0-3bb3-492e-8727-33a52d8cbd7a",
    "outputId": "0b065f5c-6cd6-4e9e-fe48-54513e5e1845"
   },
   "outputs": [
    {
     "name": "stdout",
     "output_type": "stream",
     "text": [
      "categorical Labels\n",
      "[5 0 4 1 9]\n"
     ]
    }
   ],
   "source": [
    "# Review the first few labels\n",
    "print(\"categorical Labels\")\n",
    "print(y_train[0:5])"
   ]
  },
  {
   "cell_type": "code",
   "execution_count": 6,
   "id": "568a8e12-7331-4cd3-8e67-644f14e38411",
   "metadata": {
    "colab": {
     "base_uri": "https://localhost:8080/"
    },
    "id": "568a8e12-7331-4cd3-8e67-644f14e38411",
    "outputId": "68a5e3f5-cca3-4737-dbc1-500e351059fe"
   },
   "outputs": [
    {
     "name": "stdout",
     "output_type": "stream",
     "text": [
      "one hot encoded labels\n",
      "tf.Tensor(\n",
      "[[0. 0. 0. 0. 0. 1. 0. 0. 0. 0.]\n",
      " [1. 0. 0. 0. 0. 0. 0. 0. 0. 0.]\n",
      " [0. 0. 0. 0. 1. 0. 0. 0. 0. 0.]\n",
      " [0. 1. 0. 0. 0. 0. 0. 0. 0. 0.]\n",
      " [0. 0. 0. 0. 0. 0. 0. 0. 0. 1.]], shape=(5, 10), dtype=float32)\n"
     ]
    }
   ],
   "source": [
    "# Encode the labels into a one-hot vector\n",
    "y_train = tf.one_hot(y_train, 10)\n",
    "y_test = tf.one_hot(y_test, 10)\n",
    "\n",
    "# Review one-hot encoded labels\n",
    "print(\"one hot encoded labels\")\n",
    "print(y_train[0:5])"
   ]
  },
  {
   "cell_type": "markdown",
   "id": "d7420cfa-1f4a-4470-805f-49c3bedc0bab",
   "metadata": {
    "id": "d7420cfa-1f4a-4470-805f-49c3bedc0bab"
   },
   "source": [
    "Check the size of the datasets"
   ]
  },
  {
   "cell_type": "code",
   "execution_count": 7,
   "id": "7b57201a-ce70-4bb4-b93b-8bed64107c7c",
   "metadata": {
    "colab": {
     "base_uri": "https://localhost:8080/"
    },
    "id": "7b57201a-ce70-4bb4-b93b-8bed64107c7c",
    "outputId": "7d02774d-6a5f-458c-b7ea-4cd74f89b28d"
   },
   "outputs": [
    {
     "name": "stdout",
     "output_type": "stream",
     "text": [
      "number of training examples: 60000\n",
      "number of test examples: 10000\n"
     ]
    }
   ],
   "source": [
    "print(\"number of training examples:\", x_train.shape[0])\n",
    "print(\"number of test examples:\", x_test.shape[0])"
   ]
  },
  {
   "cell_type": "markdown",
   "id": "85c882d9-6ebb-4f8a-95af-859c4443f3fe",
   "metadata": {
    "id": "85c882d9-6ebb-4f8a-95af-859c4443f3fe"
   },
   "source": [
    "Shuffle the dataset to improve randomness on batching"
   ]
  },
  {
   "cell_type": "code",
   "execution_count": 8,
   "id": "5b881808-c6b5-4e43-8959-a4f3fdf5b8ff",
   "metadata": {
    "id": "5b881808-c6b5-4e43-8959-a4f3fdf5b8ff"
   },
   "outputs": [],
   "source": [
    "train_ds = tf.data.Dataset.from_tensor_slices((x_train, y_train)).batch(50)\n",
    "test_ds = tf.data.Dataset.from_tensor_slices((x_test, y_test)).batch(50)"
   ]
  },
  {
   "cell_type": "markdown",
   "id": "5f6e9c9a-9795-42df-ae78-1eee3f7b5efa",
   "metadata": {
    "id": "5f6e9c9a-9795-42df-ae78-1eee3f7b5efa"
   },
   "source": [
    "### Convert 2D images to 1D Vector"
   ]
  },
  {
   "cell_type": "code",
   "execution_count": 9,
   "id": "d6a1a035-67bd-46c1-8cf6-ebfd7cfd384b",
   "metadata": {
    "colab": {
     "base_uri": "https://localhost:8080/"
    },
    "id": "d6a1a035-67bd-46c1-8cf6-ebfd7cfd384b",
    "outputId": "97160c70-fcdb-4c9e-ce3c-24d1e78114f3"
   },
   "outputs": [
    {
     "name": "stdout",
     "output_type": "stream",
     "text": [
      "original data shape\n",
      "(60000, 28, 28)\n",
      "flattened shape\n",
      "(60000, 784)\n"
     ]
    }
   ],
   "source": [
    "# use the tensorflow flatten class for the reduction\n",
    "from tensorflow.keras.layers import Flatten\n",
    "flatten = Flatten(dtype = 'float32')\n",
    "\n",
    "print(\"original data shape\")\n",
    "print(x_train.shape)\n",
    "\n",
    "print(\"flattened shape\")\n",
    "print(flatten(x_train).shape)"
   ]
  },
  {
   "cell_type": "markdown",
   "id": "cb90cfba-8f25-4f23-b33c-d8861a0bb36d",
   "metadata": {
    "id": "cb90cfba-8f25-4f23-b33c-d8861a0bb36d"
   },
   "source": [
    "### Assigning bias and weights to null tensors"
   ]
  },
  {
   "cell_type": "code",
   "execution_count": 9,
   "id": "4d98966d-2607-4c3c-8618-eddf4cc0635e",
   "metadata": {
    "id": "4d98966d-2607-4c3c-8618-eddf4cc0635e"
   },
   "outputs": [],
   "source": [
    "# Weight tensor\n",
    "W = tf.Variable(tf.zeros([784, 10], tf.float32))\n",
    "\n",
    "# Bias tensor\n",
    "b = tf.Variable(tf.zeros([10], tf.float32))"
   ]
  },
  {
   "cell_type": "markdown",
   "id": "d08492e4-5d84-4348-b8ea-d4eb136782f2",
   "metadata": {
    "id": "d08492e4-5d84-4348-b8ea-d4eb136782f2"
   },
   "source": [
    "### Adding Weights and Biases to Input"
   ]
  },
  {
   "cell_type": "code",
   "execution_count": 10,
   "id": "6e8d5125-58b5-4ed4-92fb-7a6f8fd4fa8e",
   "metadata": {
    "id": "6e8d5125-58b5-4ed4-92fb-7a6f8fd4fa8e"
   },
   "outputs": [],
   "source": [
    "# Apply matrix multiplication between x (input) and W (weights) then add the bias\n",
    "def forward(x):\n",
    "  return tf.matmul(x,W) + b"
   ]
  },
  {
   "cell_type": "markdown",
   "id": "8948cab0-b1fd-4561-b8cf-27188bbe2eb3",
   "metadata": {
    "id": "8948cab0-b1fd-4561-b8cf-27188bbe2eb3"
   },
   "source": [
    "### Softmax Regression\n",
    "Applying activation function to classify images by generating respective probabilities"
   ]
  },
  {
   "cell_type": "code",
   "execution_count": 11,
   "id": "d45fbab6-78fe-424f-9b88-71b20d49d333",
   "metadata": {
    "colab": {
     "base_uri": "https://localhost:8080/"
    },
    "id": "d45fbab6-78fe-424f-9b88-71b20d49d333",
    "outputId": "3ac46990-6daa-4191-ef96-b32b87d8f8a5"
   },
   "outputs": [
    {
     "name": "stdout",
     "output_type": "stream",
     "text": [
      "softmax calculation\n",
      "[8.8075405e-01 4.8839214e-05 1.1919710e-01]\n",
      "verifying normalization\n",
      "tf.Tensor(1.0, shape=(), dtype=float32)\n",
      "finding vector with the largest value (label assignment)\n",
      "category 0\n"
     ]
    }
   ],
   "source": [
    "# an example of softmax calculation on an input vector\n",
    "vector = [10, 0.2, 8]\n",
    "softmax = tf.nn.softmax(vector)\n",
    "print(\"softmax calculation\")\n",
    "print(softmax.numpy())\n",
    "print(\"verifying normalization\")\n",
    "print(tf.reduce_sum(softmax))\n",
    "print(\"finding vector with the largest value (label assignment)\")\n",
    "print(\"category\", tf.argmax(softmax).numpy())"
   ]
  },
  {
   "cell_type": "markdown",
   "id": "d96ac92f-bd52-40cf-9ce2-862cf368b7b7",
   "metadata": {
    "id": "d96ac92f-bd52-40cf-9ce2-862cf368b7b7"
   },
   "source": [
    "define the output layer"
   ]
  },
  {
   "cell_type": "code",
   "execution_count": 12,
   "id": "e6153d99-a722-4547-9c8f-435e165402f8",
   "metadata": {
    "id": "e6153d99-a722-4547-9c8f-435e165402f8"
   },
   "outputs": [],
   "source": [
    "def activate(x):\n",
    "  return tf.nn.softmax(forward(x))"
   ]
  },
  {
   "cell_type": "markdown",
   "id": "c9f24eb3-f9ca-41ff-bcbb-31e1a347b13c",
   "metadata": {
    "id": "c9f24eb3-f9ca-41ff-bcbb-31e1a347b13c"
   },
   "source": [
    "Softmax is a generalized type of logistic function, so we can create a <code>model</code> function for convenience"
   ]
  },
  {
   "cell_type": "code",
   "execution_count": 17,
   "id": "71f662c2-0bc4-4214-a89d-82208f5d880c",
   "metadata": {
    "id": "71f662c2-0bc4-4214-a89d-82208f5d880c"
   },
   "outputs": [],
   "source": [
    "  def model(x):\n",
    "    x = flatten(x)\n",
    "    return activate(x)"
   ]
  },
  {
   "cell_type": "markdown",
   "id": "3c896873-2130-4881-a5c8-599d7208c11e",
   "metadata": {
    "id": "3c896873-2130-4881-a5c8-599d7208c11e"
   },
   "source": [
    "### Cost Function\n",
    "This is a function used to minimize the difference between predicted and actual classifications. The cross entropy function is a popular cost function for use in categorical models\n",
    "\n",
    "$$\n",
    "CrossEntropy = \\sum{y_{label}\\cdot \\log(y_{prediction})} $$"
   ]
  },
  {
   "cell_type": "code",
   "execution_count": 18,
   "id": "0bbafc37-2dc5-4e55-b65f-ef9175a34cd0",
   "metadata": {
    "colab": {
     "base_uri": "https://localhost:8080/"
    },
    "id": "0bbafc37-2dc5-4e55-b65f-ef9175a34cd0",
    "outputId": "53be5eae-724e-4949-cd14-38495744f1b7"
   },
   "outputs": [
    {
     "data": {
      "text/plain": [
       "np.float32(138155.12)"
      ]
     },
     "execution_count": 18,
     "metadata": {},
     "output_type": "execute_result"
    }
   ],
   "source": [
    "def cross_entropy(y_label, y_pred):\n",
    "  return (-tf.reduce_sum(y_label * tf.math.log(y_pred + 1.e-10)))\n",
    "  # addition of 1e-10 to prevent errors in zero calculations\n",
    "\n",
    "# current loss function for unoptimized model\n",
    "cross_entropy(y_train, model(x_train)).numpy()"
   ]
  },
  {
   "cell_type": "markdown",
   "id": "8b8433f0-8042-4d3a-a44d-47f7cde3e900",
   "metadata": {
    "id": "8b8433f0-8042-4d3a-a44d-47f7cde3e900"
   },
   "source": [
    "### Type of optimization: Gradient Descent"
   ]
  },
  {
   "cell_type": "code",
   "execution_count": 19,
   "id": "c2dfa0a6-06c1-446c-a2d0-fb43a6e1d4db",
   "metadata": {
    "id": "c2dfa0a6-06c1-446c-a2d0-fb43a6e1d4db"
   },
   "outputs": [],
   "source": [
    "# The chosen optimizer Gradient Descent is well established\n",
    "optimizer = tf.keras.optimizers.SGD(learning_rate=0.25)"
   ]
  },
  {
   "cell_type": "markdown",
   "id": "c35v7NBMJYii",
   "metadata": {
    "id": "c35v7NBMJYii"
   },
   "source": [
    "The <code>GradientTape</code> is chosen as for the training step to automatically compute derivatives of the functions we have manually created and is applied using the <code>SGD</code> optimizer"
   ]
  },
  {
   "cell_type": "code",
   "execution_count": 20,
   "id": "7044e1f5-a03d-4740-9f8b-fe30d2a57830",
   "metadata": {
    "id": "7044e1f5-a03d-4740-9f8b-fe30d2a57830"
   },
   "outputs": [],
   "source": [
    "def train_step(x, y):\n",
    "  with tf.GradientTape() as tape:\n",
    "    # compute the loss function\n",
    "    current_loss = cross_entropy(y, model(x))\n",
    "    # compute gradient of loss\n",
    "    # (this is automatic! Even with specialized functions!)\n",
    "    grads = tape.gradient(current_loss, [W,b])\n",
    "    # apply SGD step to our Variables W and b\n",
    "    optimizer.apply_gradients(zip(grads, [W,b]))\n",
    "  return current_loss.numpy()"
   ]
  },
  {
   "cell_type": "markdown",
   "id": "d6321d08-1022-4588-b6bc-08d0736db6f7",
   "metadata": {
    "id": "d6321d08-1022-4588-b6bc-08d0736db6f7"
   },
   "source": [
    "### Training batches\n",
    " _Batch Gradient Descent_ is good as it can generate a true gradient. However, due to its computational cost throughout training, its application in Neural Networks is commonly done in minibatches."
   ]
  },
  {
   "cell_type": "code",
   "execution_count": 21,
   "id": "4b846318-52fe-4a20-a9bf-c60725e132fe",
   "metadata": {
    "colab": {
     "base_uri": "https://localhost:8080/"
    },
    "id": "4b846318-52fe-4a20-a9bf-c60725e132fe",
    "outputId": "3e3002df-330e-4a82-d067-6070238606b5",
    "scrolled": true
   },
   "outputs": [
    {
     "name": "stdout",
     "output_type": "stream",
     "text": [
      "epoch  0 batch 500 loss: 308.78094\n",
      "epoch  0 batch 1000 loss: 243.85347\n",
      "end of epoch 0 loss 335063.8 accuracy 0.73728335\n",
      "epoch  1 batch 500 loss: 270.43488\n",
      "epoch  1 batch 1000 loss: 239.25098\n",
      "end of epoch 1 loss 331978.1 accuracy 0.74156666\n",
      "epoch  2 batch 500 loss: 290.95187\n",
      "epoch  2 batch 1000 loss: 253.18973\n",
      "end of epoch 2 loss 325348.25 accuracy 0.7507667\n",
      "epoch  3 batch 500 loss: 292.71637\n",
      "epoch  3 batch 1000 loss: 260.54138\n",
      "end of epoch 3 loss 321318.7 accuracy 0.75453335\n",
      "epoch  4 batch 500 loss: 289.2487\n",
      "epoch  4 batch 1000 loss: 242.80728\n",
      "end of epoch 4 loss 326882.06 accuracy 0.7500833\n",
      "epoch  5 batch 500 loss: 280.16818\n",
      "epoch  5 batch 1000 loss: 230.50214\n",
      "end of epoch 5 loss 321615.75 accuracy 0.75516665\n",
      "epoch  6 batch 500 loss: 277.45898\n",
      "epoch  6 batch 1000 loss: 230.25873\n",
      "end of epoch 6 loss 318383.2 accuracy 0.7596667\n",
      "epoch  7 batch 500 loss: 296.34238\n",
      "epoch  7 batch 1000 loss: 230.25853\n",
      "end of epoch 7 loss 317834.22 accuracy 0.7604667\n",
      "epoch  8 batch 500 loss: 294.98904\n",
      "epoch  8 batch 1000 loss: 241.22311\n",
      "end of epoch 8 loss 319660.4 accuracy 0.7583333\n",
      "epoch  9 batch 500 loss: 288.79962\n",
      "epoch  9 batch 1000 loss: 230.17444\n",
      "end of epoch 9 loss 319884.72 accuracy 0.7582833\n"
     ]
    }
   ],
   "source": [
    "# zeroing out weights in case of repeated executions of model\n",
    "# Weight tensor\n",
    "W = tf.Variable(tf.zeros([784, 10], tf.float32))\n",
    "# Bias tensor\n",
    "b = tf.Variable(tf.zeros([10], tf.float32))\n",
    "\n",
    "loss_values = []\n",
    "accuracies = []\n",
    "epochs = 10\n",
    "\n",
    "for i in range(epochs):\n",
    "  j = 0\n",
    "  # each batch has 50 examples\n",
    "  for x_train_batch, y_train_batch in train_ds:\n",
    "    j += 1\n",
    "    current_loss = train_step(x_train_batch, y_train_batch)\n",
    "    if j%500==0: # reporting intermittent batch statistics\n",
    "      print(\"epoch \", str(i), \"batch\", str(j), \"loss:\", str(current_loss))\n",
    "\n",
    "  # collecting statistics at each epoch...loss function and accuracy\n",
    "  current_loss = cross_entropy(y_train, model(x_train)).numpy()\n",
    "  loss_values.append(current_loss)\n",
    "  correct_prediction = tf.equal(tf.argmax(model(x_train), axis=1),\n",
    "                                tf.argmax(y_train, axis=1))\n",
    "\n",
    "  # accuracy\n",
    "  accuracy = tf.reduce_mean(tf.cast(correct_prediction, tf.float32)).numpy()\n",
    "  accuracies.append(accuracy)\n",
    "  print(\"end of epoch\", str(i), \"loss\", str(current_loss), \"accuracy\", str(accuracy))"
   ]
  },
  {
   "cell_type": "markdown",
   "id": "12f905be-59e9-46c9-803b-d9955e31363a",
   "metadata": {
    "id": "12f905be-59e9-46c9-803b-d9955e31363a"
   },
   "source": [
    "### Test and Plots\n",
    "Intermittent diagnostics (such as accuracy and loss over entire dataset) are commonly conducted using the testing dataset to identify the degree of fit. Overfitting is when the test metrics are distinctly less favourable than the train metrics."
   ]
  },
  {
   "cell_type": "code",
   "execution_count": 22,
   "id": "e8ac029b-f75f-479f-bbee-aa4182d09e8a",
   "metadata": {
    "colab": {
     "base_uri": "https://localhost:8080/"
    },
    "id": "e8ac029b-f75f-479f-bbee-aa4182d09e8a",
    "outputId": "0c7bb38f-8954-4d79-98b8-15079bd0673a"
   },
   "outputs": [
    {
     "name": "stdout",
     "output_type": "stream",
     "text": [
      "training accuracy 0.7582833\n",
      "test accuracy 0.7536\n"
     ]
    }
   ],
   "source": [
    "correct_prediction_train = tf.equal(tf.argmax(model(x_train), axis=1),tf.argmax(y_train, axis=1))\n",
    "accuracy_train = tf.reduce_mean(tf.cast(correct_prediction_train, tf.float32)).numpy()\n",
    "\n",
    "correct_prediction_test = tf.equal(tf.argmax(model(x_test), axis=1), tf.argmax(y_test, axis=1))\n",
    "accuracy_test = tf.reduce_mean(tf.cast(correct_prediction_test, tf.float32)).numpy()\n",
    "\n",
    "print(\"training accuracy\", accuracy_train)\n",
    "print(\"test accuracy\", accuracy_test)"
   ]
  },
  {
   "cell_type": "markdown",
   "id": "bb5d5d25-48f8-47be-ad25-e1a63a7dd985",
   "metadata": {
    "id": "bb5d5d25-48f8-47be-ad25-e1a63a7dd985"
   },
   "source": [
    "### Plotting the performance of optimizations at each epoch"
   ]
  },
  {
   "cell_type": "code",
   "execution_count": 24,
   "id": "63ca2d14-0204-4e29-a871-dba425efe74a",
   "metadata": {
    "colab": {
     "base_uri": "https://localhost:8080/",
     "height": 555
    },
    "id": "63ca2d14-0204-4e29-a871-dba425efe74a",
    "outputId": "c384813b-65fe-49fd-85f5-28ea18e0793c"
   },
   "outputs": [
    {
     "data": {
      "text/plain": [
       "Text(0, 0.5, 'loss')"
      ]
     },
     "execution_count": 24,
     "metadata": {},
     "output_type": "execute_result"
    },
    {
     "data": {
      "image/png": "[encoded data removed]",
      "text/plain": [
       "<Figure size 1000x600 with 1 Axes>"
      ]
     },
     "metadata": {},
     "output_type": "display_data"
    }
   ],
   "source": [
    "import matplotlib.pyplot as plt\n",
    "%matplotlib inline\n",
    "plt.rcParams['figure.figsize'] = (10,6)\n",
    "#print(loss_values)\n",
    "plt.plot(loss_values, \"-ro\")\n",
    "plt.title(\"loss per epoch\")\n",
    "plt.xlabel(\"epoch\")\n",
    "plt.ylabel(\"loss\")"
   ]
  },
  {
   "cell_type": "code",
   "execution_count": 25,
   "id": "91efd0a3-a117-472d-80bb-ae6ffee6a666",
   "metadata": {
    "colab": {
     "base_uri": "https://localhost:8080/",
     "height": 563
    },
    "id": "91efd0a3-a117-472d-80bb-ae6ffee6a666",
    "outputId": "eadf2868-874d-4e5f-d85b-d248fa7e0971"
   },
   "outputs": [
    {
     "data": {
      "text/plain": [
       "Text(0, 0.5, 'accuracy')"
      ]
     },
     "execution_count": 25,
     "metadata": {},
     "output_type": "execute_result"
    },
    {
     "data": {
      "image/png": "[encoded data removed]",
      "text/plain": [
       "<Figure size 1000x600 with 1 Axes>"
      ]
     },
     "metadata": {},
     "output_type": "display_data"
    }
   ],
   "source": [
    "plt.plot(accuracies, \"-ro\")\n",
    "plt.title(\"accuracy per epoch\")\n",
    "plt.xlabel(\"epoch\")\n",
    "plt.ylabel(\"accuracy\")"
   ]
  },
  {
   "cell_type": "markdown",
   "id": "892b8b28-2f02-453e-b487-8944bc3525f1",
   "metadata": {
    "id": "892b8b28-2f02-453e-b487-8944bc3525f1"
   },
   "source": [
    "### Improving the model\n",
    "Several options include:\n",
    "* Regularization of Neural Networks using DropConnect\n",
    "* Multi-column Deep Neural Networks for Image Classification\n",
    "* APAC: Augmented Pattern Classification with Neural Networks\n",
    "* Simple Deep Neural Network with Dropout\n"
   ]
  },
  {
   "cell_type": "markdown",
   "id": "vhYLb5ixSS-y",
   "metadata": {
    "id": "vhYLb5ixSS-y"
   },
   "source": [
    "<hr />\n",
    "\n",
    "## 2nd part: Deep Learning applied on MNIST\n",
    "This expands on the ANN model above to use Deep Neural Networks. Layers to add include:\n",
    "* ReLU\n",
    "* MaxPooling\n",
    "* DropOut"
   ]
  },
  {
   "cell_type": "markdown",
   "id": "WvpL7cLPS-UA",
   "metadata": {
    "id": "WvpL7cLPS-UA"
   },
   "source": [
    "### Initial Parameters"
   ]
  },
  {
   "cell_type": "code",
   "execution_count": 10,
   "id": "ba30bfe2-4854-41b1-b75d-933104944670",
   "metadata": {
    "id": "ba30bfe2-4854-41b1-b75d-933104944670"
   },
   "outputs": [],
   "source": [
    "width = 28 # width of the image in pixels\n",
    "height = 28 # height of the image in pixels\n",
    "flat = width * height # number of pixels in one image\n",
    "class_output = 10 # number of possible classifications for the problem"
   ]
  },
  {
   "cell_type": "markdown",
   "id": "66c1db2a-6162-441d-a724-dd20b51569c2",
   "metadata": {
    "id": "66c1db2a-6162-441d-a724-dd20b51569c2"
   },
   "source": [
    "#### Convert images of the data set to tensors"
   ]
  },
  {
   "cell_type": "code",
   "execution_count": 11,
   "id": "9a0488f6-bc88-49f3-9a78-cd1d66a2d094",
   "metadata": {
    "id": "9a0488f6-bc88-49f3-9a78-cd1d66a2d094"
   },
   "outputs": [],
   "source": [
    "x_image_train = tf.reshape(x_train, [-1,28,28,1])\n",
    "x_image_train = tf.cast(x_image_train, \"float32\")\n",
    "\n",
    "x_image_test = tf.reshape(x_test, [-1, 28,28,1])\n",
    "x_image_test = tf.cast(x_image_test, \"float32\")\n",
    "\n",
    "# creating new dataset with reshaped inputs\n",
    "train_ds2 = tf.data.Dataset.from_tensor_slices((x_image_train, y_train)).batch(50)\n",
    "test_ds2 = tf.data.Dataset.from_tensor_slices((x_image_test, y_test)).batch(50)"
   ]
  },
  {
   "cell_type": "markdown",
   "id": "018746c6-3241-4ae0-8795-50738223be68",
   "metadata": {
    "id": "018746c6-3241-4ae0-8795-50738223be68"
   },
   "source": [
    "### Convolution Layer 1\n",
    "\n",
    "#### Defining kernel weight and bias\n",
    "* Size of the filter/kernel: 5x5\n",
    "* Input channels: 1 (grayscale)\n",
    "* Feature maps: 32\n",
    "\n",
    "In this step, the filter/kernel tensor is of shape <code>[filter_height, filter_width, in_channels, out_channels]</code>"
   ]
  },
  {
   "cell_type": "code",
   "execution_count": 12,
   "id": "6103dc92-8b7d-4ad0-92ef-bd5045dac924",
   "metadata": {
    "id": "6103dc92-8b7d-4ad0-92ef-bd5045dac924"
   },
   "outputs": [],
   "source": [
    "W_conv1 = tf.Variable(tf.random.truncated_normal([5,5,1,32], stddev=0.1, seed=0))\n",
    "b_conv1 = tf.Variable(tf.constant(0.1, shape=[32])) # need 32 biases for 32 outputs"
   ]
  },
  {
   "cell_type": "markdown",
   "id": "7hDcPYiWX4Uz",
   "metadata": {
    "id": "7hDcPYiWX4Uz"
   },
   "source": [
    "#### Convolve with weight tensor and add biases.\n",
    "\n",
    "To create convolutional layer, we use <b>tf.nn.conv2d</b>. It computes a 2-D convolution given 4-D input and filter tensors.\n",
    "\n",
    "Inputs:\n",
    "- tensor of shape [batch, in_height, in_width, in_channels]. x of shape [batch_size,28 ,28, 1]\n",
    "- a filter / kernel tensor of shape [filter_height, filter_width, in_channels, out_channels]. W is of size [5, 5, 1, 32]\n",
    "- stride which is  [1, 1, 1, 1]. The convolutional layer, slides the \"kernel window\" across the input tensor. As the input tensor has 4 dimensions:  [batch, height, width, channels], then the convolution operates on a 2D window on the height and width dimensions. __strides__ determines how much the window shifts by in each of the dimensions. As the first and last dimensions are related to batch and channels, we set the stride to 1. But for second and third dimension, we could set other values, e.g. [1, 2, 2, 1]\n",
    "    \n",
    "    \n",
    "Process:\n",
    "- Change the filter to a 2-D matrix with shape [5\\*5\\*1,32]\n",
    "- Extracts image patches from the input tensor to form a *virtual* tensor of shape `[batch, 28, 28, 5*5*1]`.\n",
    "- For each batch, right-multiplies the filter matrix and the image vector.\n",
    "\n",
    "Output:\n",
    "- A `Tensor` (a 2-D convolution) of size tf.Tensor 'add_7:0' shape=(?, 28, 28, 32)- Notice: the output of the first convolution layer is 32 [28x28] images. Here 32 is considered as volume/depth of the output image.\n"
   ]
  },
  {
   "cell_type": "code",
   "execution_count": 13,
   "id": "6f0a3ac0-29ac-4a8f-aed6-ad67ee1e1df9",
   "metadata": {
    "id": "6f0a3ac0-29ac-4a8f-aed6-ad67ee1e1df9"
   },
   "outputs": [],
   "source": [
    "def convolve1(x):\n",
    "  return tf.nn.conv2d(x, W_conv1, strides=[1,1,1,1], padding='SAME') + b_conv1"
   ]
  },
  {
   "cell_type": "markdown",
   "id": "5CNC1BehYToK",
   "metadata": {
    "id": "5CNC1BehYToK"
   },
   "source": [
    "#### Apply the ReLU activation\n",
    "This step goes through all outputs of the convolution step and replaces all negative values with 0."
   ]
  },
  {
   "cell_type": "code",
   "execution_count": 14,
   "id": "RhUglN6sYR87",
   "metadata": {
    "id": "RhUglN6sYR87"
   },
   "outputs": [],
   "source": [
    "def h_conv1(x):\n",
    "  return tf.nn.relu(convolve1(x))"
   ]
  },
  {
   "cell_type": "markdown",
   "id": "OmJeJZPuZMdg",
   "metadata": {
    "id": "OmJeJZPuZMdg"
   },
   "source": [
    "#### Apply Max Pooling\n",
    "**Max Pooling** is a form of non-linear down-sampling. It partitions the input image into a set of rectangles and then find the maximum value for that region.\n",
    "\n",
    "We will use:\n",
    "* Function: `tf.nn.max_pool`\n",
    "* Kernel size: 2x2\n",
    "* Strides: 2"
   ]
  },
  {
   "cell_type": "code",
   "execution_count": 15,
   "id": "bl3jQh-LZI_m",
   "metadata": {
    "id": "bl3jQh-LZI_m"
   },
   "outputs": [],
   "source": [
    "def conv1(x):\n",
    "  return tf.nn.max_pool(h_conv1(x), ksize=[1,2,2,1], strides=[1,2,2,1], padding=\"SAME\")"
   ]
  },
  {
   "cell_type": "markdown",
   "id": "OFGRa3SCajnn",
   "metadata": {
    "id": "OFGRa3SCajnn"
   },
   "source": [
    "First Layer done!"
   ]
  },
  {
   "cell_type": "markdown",
   "id": "0E6htwMNaoeu",
   "metadata": {
    "id": "0E6htwMNaoeu"
   },
   "source": [
    "### Convolutional Layer 2\n",
    "\n",
    "#### Weights and Biases of kernels\n",
    "For this layer, convolution is applied again with the following conditions:\n",
    "* Filter/kernel: 5x5 (25 pixels)\n",
    "* Input channels: 32 (from the 1st Conv layer --> 32 feature maps)\n",
    "* 64 output feature maps\n",
    "\n",
    "**Notice**: here, the input image is [14x14x32], and we have 64 filters of size [5x5x32], so the output would be 64 convolved image, or [14x14x64].\n",
    "\n",
    "**Notice**: teh convolution result of applying a filter of size [5x5x32] on image of size [14x14x32] is an image of size [14x14x1], that is, the convolution is functioning on volume."
   ]
  },
  {
   "cell_type": "code",
   "execution_count": 16,
   "id": "YROnNTn1aTon",
   "metadata": {
    "id": "YROnNTn1aTon"
   },
   "outputs": [],
   "source": [
    "W_conv2 = tf.Variable(tf.random.truncated_normal([5,5,32,64], stddev=0.1, seed=1))\n",
    "b_conv2 = tf.Variable(tf.constant(0.1, shape=[64])) # need 64 biases for 64 outputs"
   ]
  },
  {
   "cell_type": "markdown",
   "id": "5_s1TuU5dhda",
   "metadata": {
    "id": "5_s1TuU5dhda"
   },
   "source": [
    "#### Convolve image with weight tensor and add biases"
   ]
  },
  {
   "cell_type": "code",
   "execution_count": 17,
   "id": "bCA8ax2Adf45",
   "metadata": {
    "id": "bCA8ax2Adf45"
   },
   "outputs": [],
   "source": [
    "def convolve2(x):\n",
    "  return tf.nn.conv2d(conv1(x), W_conv2, strides=[1,1,1,1], padding='SAME') + b_conv2"
   ]
  },
  {
   "cell_type": "markdown",
   "id": "XUMjIrgyd1VS",
   "metadata": {
    "id": "XUMjIrgyd1VS"
   },
   "source": [
    "#### Apply the ReLY activation function"
   ]
  },
  {
   "cell_type": "code",
   "execution_count": 18,
   "id": "9ZRYbokFd0LJ",
   "metadata": {
    "id": "9ZRYbokFd0LJ"
   },
   "outputs": [],
   "source": [
    "def h_conv2(x):\n",
    "  return tf.nn.relu(convolve2(x))"
   ]
  },
  {
   "cell_type": "markdown",
   "id": "vOr4MhjeeBaA",
   "metadata": {
    "id": "vOr4MhjeeBaA"
   },
   "source": [
    "#### Apply the max pooling"
   ]
  },
  {
   "cell_type": "code",
   "execution_count": 19,
   "id": "oARFoDqteAmQ",
   "metadata": {
    "id": "oARFoDqteAmQ"
   },
   "outputs": [],
   "source": [
    "def conv2(x):\n",
    "  return tf.nn.max_pool(h_conv2(x), ksize=[1,2,2,1], strides=[1,2,2,1], padding='SAME')"
   ]
  },
  {
   "cell_type": "markdown",
   "id": "lz27NrdseRRx",
   "metadata": {
    "id": "lz27NrdseRRx"
   },
   "source": [
    "Second Layer done\n",
    "<hr />"
   ]
  },
  {
   "cell_type": "markdown",
   "id": "FwNhKpTEeX6I",
   "metadata": {
    "id": "FwNhKpTEeX6I"
   },
   "source": [
    "### Fully Connected Layer\n",
    "To use softmax to generate the final probabilities a fully connected layer will need to be implemented."
   ]
  },
  {
   "cell_type": "markdown",
   "id": "p1ULKjwpevUi",
   "metadata": {
    "id": "p1ULKjwpevUi"
   },
   "source": [
    "#### Flattening the Second Layer"
   ]
  },
  {
   "cell_type": "code",
   "execution_count": 20,
   "id": "LRV6vgrPeQiP",
   "metadata": {
    "id": "LRV6vgrPeQiP"
   },
   "outputs": [],
   "source": [
    "def layer2_matrix(x):\n",
    "  return tf.reshape(conv2(x), [-1,7*7*64])"
   ]
  },
  {
   "cell_type": "markdown",
   "id": "LXcAfdoGe9NA",
   "metadata": {
    "id": "LXcAfdoGe9NA"
   },
   "source": [
    "#### Weights and Biases between layer 2 and 3\n",
    "This is the multiplication of:\n",
    "* Feature map from the last layer (7x7)\n",
    "* number of feature maps (64)"
   ]
  },
  {
   "cell_type": "code",
   "execution_count": 21,
   "id": "KkgduPbce6yr",
   "metadata": {
    "id": "KkgduPbce6yr"
   },
   "outputs": [],
   "source": [
    "W_fc1 = tf.Variable(tf.random.truncated_normal([7*7*64, 1024], stddev=0.1, seed=2))\n",
    "b_fc1 = tf.Variable(tf.constant(0.1, shape=[1024]))"
   ]
  },
  {
   "cell_type": "markdown",
   "id": "eDUxoBcjfhgA",
   "metadata": {
    "id": "eDUxoBcjfhgA"
   },
   "source": [
    "#### Matrix Multiplication (applying weights and biases)"
   ]
  },
  {
   "cell_type": "code",
   "execution_count": 22,
   "id": "LRZc_0ORfg2o",
   "metadata": {
    "id": "LRZc_0ORfg2o"
   },
   "outputs": [],
   "source": [
    "def fcl(x):\n",
    "  return tf.matmul(layer2_matrix(x), W_fc1) + b_fc1"
   ]
  },
  {
   "cell_type": "markdown",
   "id": "m10B8LPrfx0o",
   "metadata": {
    "id": "m10B8LPrfx0o"
   },
   "source": [
    "#### Apply the ReLU activation Function"
   ]
  },
  {
   "cell_type": "code",
   "execution_count": 23,
   "id": "ZyTgmR8Sfv8n",
   "metadata": {
    "id": "ZyTgmR8Sfv8n"
   },
   "outputs": [],
   "source": [
    "def h_fc1(x):\n",
    "  return tf.nn.relu(fcl(x))"
   ]
  },
  {
   "cell_type": "markdown",
   "id": "c_ljN2fBf8tY",
   "metadata": {
    "id": "c_ljN2fBf8tY"
   },
   "source": [
    "Third layer completed\n",
    "<hr />"
   ]
  },
  {
   "cell_type": "markdown",
   "id": "sbUtmPGogCwI",
   "metadata": {
    "id": "sbUtmPGogCwI"
   },
   "source": [
    "### Dropout Layer, Option phase for reducing overfitting\n",
    "In this layer, some features are \"dropped\" during processing to reduce the risk of overfitting"
   ]
  },
  {
   "cell_type": "code",
   "execution_count": 24,
   "id": "YyZlpGpyf7j4",
   "metadata": {
    "id": "YyZlpGpyf7j4"
   },
   "outputs": [],
   "source": [
    "keep_prob = 0.5\n",
    "def layer_drop(x):\n",
    "  return tf.nn.dropout(h_fc1(x), keep_prob)"
   ]
  },
  {
   "cell_type": "markdown",
   "id": "fGtl6XDYg3We",
   "metadata": {
    "id": "fGtl6XDYg3We"
   },
   "source": [
    "### Softmax (Readout) Layer"
   ]
  },
  {
   "cell_type": "markdown",
   "id": "BZMd9yDig8uN",
   "metadata": {
    "id": "BZMd9yDig8uN"
   },
   "source": [
    "#### Weights and Biases\n",
    "Here, CNN translates the high-level filtered images into votes using softmax. Details as follows:\n",
    "* Input channels: 1024 (neurons from the 3rd layer)\n",
    "* Output features: 10"
   ]
  },
  {
   "cell_type": "code",
   "execution_count": 25,
   "id": "qcZrDb01g2SW",
   "metadata": {
    "id": "qcZrDb01g2SW"
   },
   "outputs": [],
   "source": [
    "W_fc2 = tf.Variable(tf.random.truncated_normal([1024, 10], stddev=0.1, seed=2)) # 1024 neurons\n",
    "b_fc2 = tf.Variable(tf.constant(0.1, shape=[10])) # 10 possibilities for digits 0 to 9"
   ]
  },
  {
   "cell_type": "markdown",
   "id": "3pkdwsrrhrPS",
   "metadata": {
    "id": "3pkdwsrrhrPS"
   },
   "source": [
    "#### Matrix Multiplication (applying weights and biases)"
   ]
  },
  {
   "cell_type": "code",
   "execution_count": 26,
   "id": "Qkri2qU1hqXy",
   "metadata": {
    "id": "Qkri2qU1hqXy"
   },
   "outputs": [],
   "source": [
    "def fc(x):\n",
    "  return tf.matmul(layer_drop(x), W_fc2) + b_fc2"
   ]
  },
  {
   "cell_type": "markdown",
   "id": "-Yb2drJnh496",
   "metadata": {
    "id": "-Yb2drJnh496"
   },
   "source": [
    "#### Apply the Softmax Activation Function"
   ]
  },
  {
   "cell_type": "code",
   "execution_count": 27,
   "id": "skul9Kauh4G-",
   "metadata": {
    "id": "skul9Kauh4G-"
   },
   "outputs": [],
   "source": [
    "def y_CNN(x):\n",
    "  return tf.nn.softmax(fc(x))"
   ]
  },
  {
   "cell_type": "markdown",
   "id": "10Ir1B6EizSP",
   "metadata": {
    "id": "10Ir1B6EizSP"
   },
   "source": [
    "That's the CNN model\n",
    "<hr />"
   ]
  },
  {
   "cell_type": "markdown",
   "id": "6RCZzVaVi51x",
   "metadata": {
    "id": "6RCZzVaVi51x"
   },
   "source": [
    "## Defining the Functions and train the model"
   ]
  },
  {
   "cell_type": "markdown",
   "id": "pXBQLyyyjHnX",
   "metadata": {
    "id": "pXBQLyyyjHnX"
   },
   "source": [
    "### Define the loss function\n",
    "Cross Entropy can be used to measure the error at a softmax layer"
   ]
  },
  {
   "cell_type": "code",
   "execution_count": 28,
   "id": "qysJ1bVviydQ",
   "metadata": {
    "colab": {
     "base_uri": "https://localhost:8080/"
    },
    "id": "qysJ1bVviydQ",
    "outputId": "7b480b98-0a07-4d07-d28c-38eedfc0d523"
   },
   "outputs": [
    {
     "data": {
      "text/plain": [
       "np.float64(0.10536051565782628)"
      ]
     },
     "execution_count": 28,
     "metadata": {},
     "output_type": "execute_result"
    }
   ],
   "source": [
    "# Toy sample of cross-entropy for a mini-batch of size 2\n",
    "import numpy as np\n",
    "layer4_test = [[0.9,0.1,0.1],[0.9,0.1,0.1]]\n",
    "y_test=[[1.0,0.0,0.0],[1.0,0.0,0.0]]\n",
    "np.mean(-np.sum(y_test * np.log(layer4_test), 1))"
   ]
  },
  {
   "cell_type": "code",
   "execution_count": 29,
   "id": "ep6zyzuukUYW",
   "metadata": {
    "id": "ep6zyzuukUYW"
   },
   "outputs": [],
   "source": [
    "def cross_entropy(y_label, y_pred):\n",
    "  return -tf.reduce_sum(y_label * tf.math.log(y_pred +1.e-10))"
   ]
  },
  {
   "cell_type": "markdown",
   "id": "Icms2ARyk2OE",
   "metadata": {
    "id": "Icms2ARyk2OE"
   },
   "source": [
    "#### Define the optimizer\n",
    "To minimize the errors of the neural network, gradients of the loss should be computed by an optimizer: GradientDescent or Adagrad"
   ]
  },
  {
   "cell_type": "code",
   "execution_count": 30,
   "id": "q8BYMNpBk1Hs",
   "metadata": {
    "id": "q8BYMNpBk1Hs"
   },
   "outputs": [],
   "source": [
    "optimizer = tf.keras.optimizers.Adam(1e-4)"
   ]
  },
  {
   "cell_type": "code",
   "execution_count": 31,
   "id": "U1xi1OWclj9Z",
   "metadata": {
    "id": "U1xi1OWclj9Z"
   },
   "outputs": [],
   "source": [
    "# Using GradientTape to define the model\n",
    "variables = [W_conv1, b_conv1, W_conv2, b_conv2, W_fc1, b_fc1, W_fc2, b_fc2]\n",
    "\n",
    "def train_step(x, y):\n",
    "  with tf.GradientTape() as tape:\n",
    "    current_loss = cross_entropy(y, y_CNN(x))\n",
    "    grads = tape.gradient(current_loss, variables)\n",
    "    optimizer.apply_gradients(zip(grads, variables))\n",
    "    return current_loss.numpy()"
   ]
  },
  {
   "cell_type": "markdown",
   "id": "10YzqMYOmXpi",
   "metadata": {
    "id": "10YzqMYOmXpi"
   },
   "source": [
    "### Define prediction\n",
    "Counting the number of cases in each mini-batch that has been classified correctly"
   ]
  },
  {
   "cell_type": "code",
   "execution_count": null,
   "id": "C7_H1_bymMPY",
   "metadata": {
    "id": "C7_H1_bymMPY"
   },
   "outputs": [],
   "source": [
    "correct_prediction = tf.equal(tf.argmax(y_CNN(x_image_train), axis=1), tf.argmax(y_train, axis=1))"
   ]
  },
  {
   "cell_type": "markdown",
   "id": "QRfkxX-MnZrJ",
   "metadata": {
    "id": "QRfkxX-MnZrJ"
   },
   "source": [
    "### Define accuracy"
   ]
  },
  {
   "cell_type": "code",
   "execution_count": 1,
   "id": "o_MbATBymuuI",
   "metadata": {
    "colab": {
     "base_uri": "https://localhost:8080/",
     "height": 141
    },
    "id": "o_MbATBymuuI",
    "outputId": "fa31983d-3533-4cec-ecd2-14993c3c4c01"
   },
   "outputs": [
    {
     "ename": "NameError",
     "evalue": "name 'tf' is not defined",
     "output_type": "error",
     "traceback": [
      "\u001b[0;31m---------------------------------------------------------------------------\u001b[0m",
      "\u001b[0;31mNameError\u001b[0m                                 Traceback (most recent call last)",
      "\u001b[0;32m<ipython-input-1-1740efd27b6b>\u001b[0m in \u001b[0;36m<cell line: 0>\u001b[0;34m()\u001b[0m\n\u001b[0;32m----> 1\u001b[0;31m \u001b[0maccuracy\u001b[0m \u001b[0;34m=\u001b[0m \u001b[0mtf\u001b[0m\u001b[0;34m.\u001b[0m\u001b[0mreduce_mean\u001b[0m\u001b[0;34m(\u001b[0m\u001b[0mtf\u001b[0m\u001b[0;34m.\u001b[0m\u001b[0mcast\u001b[0m\u001b[0;34m(\u001b[0m\u001b[0mcorrect_prediction\u001b[0m\u001b[0;34m,\u001b[0m \u001b[0;34m'float32'\u001b[0m\u001b[0;34m)\u001b[0m\u001b[0;34m)\u001b[0m\u001b[0;34m\u001b[0m\u001b[0;34m\u001b[0m\u001b[0m\n\u001b[0m",
      "\u001b[0;31mNameError\u001b[0m: name 'tf' is not defined"
     ]
    }
   ],
   "source": [
    "accuracy = tf.reduce_mean(tf.cast(correct_prediction, 'float32'))"
   ]
  },
  {
   "cell_type": "markdown",
   "id": "u4dBleGlqpcA",
   "metadata": {
    "id": "u4dBleGlqpcA"
   },
   "source": [
    "### Run session, train"
   ]
  },
  {
   "cell_type": "code",
   "execution_count": null,
   "id": "ygBzTzwxuyGb",
   "metadata": {
    "id": "ygBzTzwxuyGb"
   },
   "outputs": [],
   "source": [
    "loss_values = []\n",
    "accuracies = []\n",
    "epochs = 1 # controls the number of executions\n",
    "\n",
    "for i in range(epochs):\n",
    "  j = 0\n",
    "  # each batch has 50 examples\n",
    "  for x_train_batch, y_train_batch in train_ds2:\n",
    "    j+=1\n",
    "    current_loss = train_step(x_train_batch, y_train_batch)\n",
    "    if j % 50 == 0:\n",
    "      # predictions\n",
    "      correct_prediction = tf.equal(tf.argmax(y_CNN(x_train_batch), axis=1),\n",
    "                                    tf.argmax(y_train_batch, axis=1))\n",
    "\n",
    "      # accuracy\n",
    "      accuracy = tf.reduce_mean(tf.cast(correct_prediction, tf.float32)).numpy()\n",
    "      print(\"epoch\", str(i), \"batch\", str(j), \"loss:\", str(current_loss),\n",
    "            \"accuracy\", str(accuracy))\n",
    "  current_loss = cross_entropy(y_train, y_CNN(x_image_train)).numpy()\n",
    "  loss_values.append(current_loss)\n",
    "  correct_prediction = tf.equal(tf.argmax(y_CNN(x_image_train), axis=1),\n",
    "                                tf.argmax(y_train, axis=1))\n",
    "\n",
    "  # accuracy\n",
    "  accuracy = tf.reduce_mean(tf.cast(correct_prediction, tf.float32)).numpy()\n",
    "  accuracies.append(accuracy)\n",
    "  print(\"end of epoch\", str(i), \"loss\", str(current_loss), \"accuracy\", str(accuracy))"
   ]
  },
  {
   "cell_type": "markdown",
   "id": "9C1r61JW6_yo",
   "metadata": {
    "id": "9C1r61JW6_yo"
   },
   "source": [
    "<hr />"
   ]
  },
  {
   "cell_type": "markdown",
   "id": "LugETbLJ7TdI",
   "metadata": {
    "id": "LugETbLJ7TdI"
   },
   "source": [
    "## Evaluate the model"
   ]
  },
  {
   "cell_type": "code",
   "execution_count": null,
   "id": "PQs3Uynj7XoI",
   "metadata": {
    "id": "PQs3Uynj7XoI"
   },
   "outputs": [],
   "source": [
    "# Print evaluations\n",
    "j = 0\n",
    "accuracies = []\n",
    "for x_train_batch, y_train_batch in train_ds2:\n",
    "  j+=1\n",
    "  correct_prediction = tf.equal(tf.argmax(y_CNN(x_train_batch), axis=1),\n",
    "                                tf.argmax(y_train_batch, axis=1))\n",
    "  accuracy = tf.reduce_mean(tf.cast(correct_prediction, tf.float32)).numpy()\n",
    "  accuracies.append(accuracy)\n",
    "  if j % 100 == 0:\n",
    "    print(\"batch\", str(j), \"accuracy\", str(accuracy))\n",
    "\n",
    "print(\"accuracy of entire set\", str(np.mean(accuracies)))"
   ]
  },
  {
   "cell_type": "markdown",
   "id": "NkvBra6rBRHW",
   "metadata": {
    "id": "NkvBra6rBRHW"
   },
   "source": [
    "### Visualization"
   ]
  },
  {
   "cell_type": "code",
   "execution_count": null,
   "id": "baHC06FtBW45",
   "metadata": {
    "id": "baHC06FtBW45"
   },
   "outputs": [],
   "source": [
    "kernels = tf.reshape(tf.transpose(W_conv1, perm=[2,3,0,1]), [32,-1])"
   ]
  },
  {
   "cell_type": "code",
   "execution_count": 1,
   "id": "xU8BCvFgnhuX",
   "metadata": {
    "colab": {
     "base_uri": "https://localhost:8080/"
    },
    "id": "xU8BCvFgnhuX",
    "outputId": "1be14f6f-0602-495c-d5bf-6e895b4eaf9f"
   },
   "outputs": [
    {
     "name": "stdout",
     "output_type": "stream",
     "text": [
      "--2025-03-26 04:23:00--  https://cf-courses-data.s3.us.cloud-object-storage.appdomain.cloud/IBMDeveloperSkillsNetwork-DL0120EN-SkillsNetwork/labs/Week2/data/utils.py\n",
      "Resolving cf-courses-data.s3.us.cloud-object-storage.appdomain.cloud (cf-courses-data.s3.us.cloud-object-storage.appdomain.cloud)... 169.63.118.104\n",
      "Connecting to cf-courses-data.s3.us.cloud-object-storage.appdomain.cloud (cf-courses-data.s3.us.cloud-object-storage.appdomain.cloud)|169.63.118.104|:443... connected.\n",
      "HTTP request sent, awaiting response... 200 OK\n",
      "Length: 5097 (5.0K) [text/x-python]\n",
      "Saving to: ‘utils1.py’\n",
      "\n",
      "utils1.py           100%[===================>]   4.98K  --.-KB/s    in 0s      \n",
      "\n",
      "2025-03-26 04:23:01 (1.86 GB/s) - ‘utils1.py’ saved [5097/5097]\n",
      "\n"
     ]
    }
   ],
   "source": [
    "# provided script for image presentation\n",
    "!wget --output-document utils1.py https://cf-courses-data.s3.us.cloud-object-storage.appdomain.cloud/IBMDeveloperSkillsNetwork-DL0120EN-SkillsNetwork/labs/Week2/data/utils.py"
   ]
  },
  {
   "cell_type": "markdown",
   "id": "CVrvEgrjCgmD",
   "metadata": {
    "id": "CVrvEgrjCgmD"
   },
   "source": [
    "#### See the processed images"
   ]
  },
  {
   "cell_type": "code",
   "execution_count": null,
   "id": "2p6oxmvaBnn5",
   "metadata": {
    "id": "2p6oxmvaBnn5"
   },
   "outputs": [],
   "source": [
    "import utils1\n",
    "import imp\n",
    "imp.reload(utils1)\n",
    "from utils1 import tile_raster_images\n",
    "import matplotlib.pyplot as plt\n",
    "from PIL import Image\n",
    "%matplotlib inline\n",
    "image = Image.fromarray(tile_raster_images(kernels.numpy(), img_shape=(5,5),\n",
    "                                           tile_shape=(4,8), tile_spacing=(1,1)))\n",
    "# Plot image\n",
    "plt.rcParams['figure.figsize'] = (18.0, 18.0)\n",
    "imgplot = plt.imshow(image)\n",
    "imgplot.set_cmap('gray')"
   ]
  },
  {
   "cell_type": "markdown",
   "id": "piULeKqWEwoI",
   "metadata": {
    "id": "piULeKqWEwoI"
   },
   "source": [
    "After first convolution layer"
   ]
  },
  {
   "cell_type": "code",
   "execution_count": null,
   "id": "6ipIdCPIEz9f",
   "metadata": {
    "id": "6ipIdCPIEz9f"
   },
   "outputs": [],
   "source": [
    "# initial pre-processed image\n",
    "plt.rcParams['figure.figsize'] = (5.0,5.0)\n",
    "sampleimage = [x_image_train[0]]\n",
    "plt.imshow(np.reshape(sampleimage, [28,28]), cmap=\"gray\")"
   ]
  },
  {
   "cell_type": "code",
   "execution_count": null,
   "id": "20b0ec66-4e02-4792-a1a0-164cf19ca28c",
   "metadata": {},
   "outputs": [],
   "source": [
    "# Transversed through first convolution\n",
    "keep_prob=1.0\n",
    "sampleimage = np.array(sampleimage)\n",
    "ActivatedUnits = convolve1(sampleimage)\n",
    "\n",
    "filters = ActivatedUnits.shape[3]\n",
    "plt.figure(1, figsize=(20,20))\n",
    "n_columns = 6\n",
    "n_rows = np.math.ceil(filters / n_columns) +1\n",
    "for i in range(filters):\n",
    "    plt.subplot(n_rows, n_columns, i+1)\n",
    "    plt.title(\"Filter \" + str(i))\n",
    "    plt.imshow(ActivatedUnits[0,:,:,i], interpolation=\"nearest\", cmap=\"gray\")"
   ]
  },
  {
   "cell_type": "markdown",
   "id": "e39b69fa-65f1-4543-81f2-8ce79c13c888",
   "metadata": {},
   "source": [
    "After second convolution layer"
   ]
  },
  {
   "cell_type": "code",
   "execution_count": null,
   "id": "4e25845d-b6ae-4f56-8747-6a87928d5c83",
   "metadata": {},
   "outputs": [],
   "source": [
    "sampleimage = np.array(sampleimage)\n",
    "ActivatedUnits = convolve2(sampleimage)\n",
    "filters = ActivatedUnits.shape[3]\n",
    "plt.figure(1, figsize=(20,20))\n",
    "n_columns = 8\n",
    "n_rows = np.math.ceil(filters / n_columns) + 1\n",
    "for i in range(filters):\n",
    "    plt.subplot(n_rows, n_columns, i+1)\n",
    "    plt.title(\"Filter \", str(i))\n",
    "    plt.imshow(ActivatedUnits[0,:,:,i], interpolation=\"nearest\", cmap=\"gray\")"
   ]
  }
 ],
 "metadata": {
  "colab": {
   "provenance": []
  },
  "kernelspec": {
   "display_name": "Python 3 (ipykernel)",
   "language": "python",
   "name": "python3"
  },
  "language_info": {
   "codemirror_mode": {
    "name": "ipython",
    "version": 3
   },
   "file_extension": ".py",
   "mimetype": "text/x-python",
   "name": "python",
   "nbconvert_exporter": "python",
   "pygments_lexer": "ipython3",
   "version": "3.11.11"
  }
 },
 "nbformat": 4,
 "nbformat_minor": 5
}
