{
 "cells": [
  {
   "cell_type": "code",
   "execution_count": 1,
   "id": "a89e9bf8-5f31-469c-8271-6b9c4b619ee4",
   "metadata": {},
   "outputs": [],
   "source": [
    "# mute Hardware optimzation messages\n",
    "import os\n",
    "os.environ[\"TF_CPP_MIN_LOG_LEVEL\"] = '1'\n",
    "\n",
    "import tensorflow as tf"
   ]
  },
  {
   "cell_type": "code",
   "execution_count": null,
   "id": "cff702bd-a382-49cc-b291-ca10946848ac",
   "metadata": {},
   "outputs": [],
   "source": [
    "# When using docker tensorflow/tensorflow:latest-juypter\n",
    "!pip install --trusted-host pypi.org --trusted-host pypi.python.org --trusted-host files.pythonhosted.org scikit-learn pandas"
   ]
  },
  {
   "cell_type": "code",
   "execution_count": 2,
   "id": "3f5434f4-f70c-4284-82f8-786f4e1203ad",
   "metadata": {},
   "outputs": [],
   "source": [
    "# Import required libraries\n",
    "import pandas as pd\n",
    "import numpy as np\n",
    "import time\n",
    "from sklearn.datasets import load_iris\n",
    "from sklearn.model_selection import train_test_split\n",
    "import matplotlib.pyplot as plt"
   ]
  },
  {
   "cell_type": "markdown",
   "id": "32ebddff-9711-4a94-9cc8-2bd6c2f40a8d",
   "metadata": {},
   "source": [
    "## Start the coding for logistic regression"
   ]
  },
  {
   "cell_type": "markdown",
   "id": "20ccb0ba-1dbc-4043-943b-bbcc05a2c57d",
   "metadata": {},
   "source": [
    "<h3>Understanding the Data</h3>\n",
    "\n",
    "<h4><code>Iris Dataset</code>:</h4>\n",
    "This dataset was introduced by British Statistician and Biologist Ronald Fisher, it consists of 50 samples from each of three species of Iris (Iris setosa, Iris virginica and Iris versicolor). In total it has 150 records under five attributes - petal length, petal width, sepal length, sepal width and species. <a href=\"https://archive.ics.uci.edu/ml/datasets/iris\">Dataset source</a>\n",
    "\n",
    "Attributes\n",
    "Independent Variable\n",
    "\n",
    "<ul>\n",
    "    <li>petal length</li>\n",
    "    <li>petal width</li>\n",
    "    <li>sepal length</li>\n",
    "    <li>sepal width</li>\n",
    "</ul>\n",
    "Dependent Variable\n",
    "<ul>    \n",
    "    <li>Species\n",
    "        <ul>\n",
    "            <li>Iris setosa</li>\n",
    "            <li>Iris virginica</li>\n",
    "            <li>Iris versicolor</li>\n",
    "        </ul>\n",
    "    </li>\n",
    "</ul>\n",
    "<br>"
   ]
  },
  {
   "cell_type": "code",
   "execution_count": 3,
   "id": "701287e1-a5a8-4a9c-825c-768280f80e64",
   "metadata": {},
   "outputs": [],
   "source": [
    "# Prepare the data and variables\n",
    "iris = load_iris()\n",
    "iris_X, iris_y = iris.data[:-1,:], iris.target[:-1]\n",
    "iris_y = pd.get_dummies(iris_y).values\n",
    "trainX, testX, trainY, testY = train_test_split(iris_X, iris_y, test_size=0.33, random_state=42)"
   ]
  },
  {
   "cell_type": "code",
   "execution_count": 4,
   "id": "568a8e12-7331-4cd3-8e67-644f14e38411",
   "metadata": {},
   "outputs": [
    {
     "name": "stdout",
     "output_type": "stream",
     "text": [
      "numFeatures is:  4\n",
      "numLabels is : 3\n"
     ]
    }
   ],
   "source": [
    "# numFeatures is teh number of features in the input data\n",
    "# In the iris dataset, this is 4\n",
    "numFeatures = trainX.shape[1]\n",
    "print('numFeatures is: ', numFeatures)\n",
    "# numLabels is the number of classes our data points can be in\n",
    "# In the dataset, this is 3\n",
    "numLabels = trainY.shape[1]\n",
    "print(\"numLabels is :\", numLabels)\n",
    "\n",
    "# Via Tensorflow\n",
    "#X = tf.Variable( np.identity(numFeatures), tf.TensorShape(numFeatures),dtype='float32') # Iris has 4 features, so X is a tensor to hold our data.\n",
    "#yGold = tf.Variable(np.array([1,1,1]),shape=tf.TensorShape(numLabels),dtype='float32') # This will be our correct answers matrix for 3 classes."
   ]
  },
  {
   "cell_type": "code",
   "execution_count": 5,
   "id": "cd82d6e1-e480-4466-8d06-270531f0e653",
   "metadata": {},
   "outputs": [],
   "source": [
    "# Set the train-test data\n",
    "trainX = tf.constant(trainX, dtype='float32')\n",
    "trainY = tf.constant(trainY, dtype='float32')\n",
    "testX = tf.constant(testX, dtype='float32')\n",
    "testY = tf.constant(testY, dtype='float32')"
   ]
  },
  {
   "cell_type": "code",
   "execution_count": 7,
   "id": "7b57201a-ce70-4bb4-b93b-8bed64107c7c",
   "metadata": {},
   "outputs": [],
   "source": [
    "# Initialise the model weights and bias for training\n",
    "W = tf.Variable(tf.zeros([4,3])) # 4-Dimensional input and 3 classes\n",
    "b = tf.Variable(tf.zeros([3])) # 3-Dimensional output [0,0,1],[0,1,0],[1,0,0]"
   ]
  },
  {
   "cell_type": "code",
   "execution_count": 8,
   "id": "abe270f0-5851-48b1-ab6d-cdde938caaaf",
   "metadata": {},
   "outputs": [],
   "source": [
    "# Randomly sample from a normal distribution with standard deviation at 0.01\n",
    "weights = tf.Variable(tf.random.normal([numFeatures, numLabels],\n",
    "                                       mean=0.0,\n",
    "                                       stddev=0.01,\n",
    "                                       name='weights'),\n",
    "                      dtype='float32')\n",
    "bias = tf.Variable(tf.random.normal([1,numLabels],\n",
    "                                    mean=0.0,\n",
    "                                    stddev=0.01,\n",
    "                                    name=\"bias\"))"
   ]
  },
  {
   "cell_type": "markdown",
   "id": "00253243-104b-4a1b-8f82-25b0d601ca87",
   "metadata": {},
   "source": [
    "### Logistic Regression Model\n",
    "This is typically summarized/described as a sigmoid equation\n",
    "$$\n",
    "ŷ =sigmoid(WX+b)\n",
    "$$\n",
    "where it is composed of:\n",
    "-   a weight times features matrix multiplication operation, \n",
    "-   a summation of the weighted features and a bias term, \n",
    "-   and finally the application of a sigmoid function. "
   ]
  },
  {
   "cell_type": "code",
   "execution_count": 10,
   "id": "91884ac3-56d6-453a-8bc2-b5e9a6de4541",
   "metadata": {},
   "outputs": [],
   "source": [
    "# Three-component breakdown of the Logistic Regression Equation\n",
    "# Note that these feed into each other\n",
    "def logistic_regression(x):\n",
    "    apply_weights_OP = tf.matmul(x, weights, name=\"apply_weights\")\n",
    "    add_bias_OP = tf.add(apply_weights_OP, bias, name=\"add_bias\")\n",
    "    # The activation_OP effectively 'fits' the dataset within a normalzed 0-100 percent\n",
    "    activation_OP = tf.nn.sigmoid(add_bias_OP, name=\"activation\")\n",
    "    return activation_OP\n"
   ]
  },
  {
   "cell_type": "markdown",
   "id": "6b412a93-426b-4097-92cb-19e8b9147710",
   "metadata": {},
   "source": [
    "### Training the Model"
   ]
  },
  {
   "cell_type": "markdown",
   "id": "cb90cfba-8f25-4f23-b33c-d8861a0bb36d",
   "metadata": {},
   "source": [
    "#### Cost Function\n",
    "Defines the learning rate and for how long the training should take"
   ]
  },
  {
   "cell_type": "code",
   "execution_count": 11,
   "id": "4d98966d-2607-4c3c-8618-eddf4cc0635e",
   "metadata": {},
   "outputs": [],
   "source": [
    "# Number of Epochs in our training\n",
    "numEpochs = 700\n",
    "\n",
    "# Defining our learning rate iterations (decay)\n",
    "learningRate = tf.keras.optimizers.schedules.ExponentialDecay(\n",
    "    initial_learning_rate=0.0008,\n",
    "    decay_steps=trainX.shape[0],\n",
    "    decay_rate=0.95,\n",
    "    staircase=True)"
   ]
  },
  {
   "cell_type": "markdown",
   "id": "d08492e4-5d84-4348-b8ea-d4eb136782f2",
   "metadata": {},
   "source": [
    "The cost function utilized is the _Squared Mean Error_ loss function. As the least-squares linear regression cannot be used, _batch gradient descent_ is used instead."
   ]
  },
  {
   "cell_type": "code",
   "execution_count": 12,
   "id": "6e8d5125-58b5-4ed4-92fb-7a6f8fd4fa8e",
   "metadata": {},
   "outputs": [],
   "source": [
    "# Defining the cost function - Squared Mean Error\n",
    "loss_object = tf.keras.losses.MeanSquaredLogarithmicError()\n",
    "optimizer = tf.keras.optimizers.SGD(learningRate)"
   ]
  },
  {
   "cell_type": "markdown",
   "id": "8948cab0-b1fd-4561-b8cf-27188bbe2eb3",
   "metadata": {},
   "source": [
    "#### Accuracy and Efficiency"
   ]
  },
  {
   "cell_type": "code",
   "execution_count": 13,
   "id": "c5bdc4c6-6054-4d40-b9b6-f149af315ed0",
   "metadata": {},
   "outputs": [],
   "source": [
    "# Accuracy metric to track model efficiency over time\n",
    "def accuracy(y_pred, y_true):\n",
    "    # Predicted class is the index of the highest score in prediction vector (i.e. argmax)\n",
    "    correct_prediction = tf.equal(tf.argmax(y_pred, 1), tf.argmax(y_true, 1))\n",
    "    return tf.reduce_mean(tf.cast(correct_prediction, tf.float32))"
   ]
  },
  {
   "cell_type": "markdown",
   "id": "2592bb9f-ddcd-4f0d-9312-19d642a482fa",
   "metadata": {},
   "source": [
    "For automatic differentiation, computation is wrapped inside a *GradientTape*. It is then computed for the gradients as well as any updates to *W* and *b*."
   ]
  },
  {
   "cell_type": "code",
   "execution_count": 15,
   "id": "86157a11-8c18-4452-a1b9-2e401bdecd44",
   "metadata": {},
   "outputs": [],
   "source": [
    "# Optimization process\n",
    "def run_optimization(x,y):\n",
    "    with tf.GradientTape() as g:\n",
    "        pred = logistic_regression(x)\n",
    "        loss = loss_object(pred, y)\n",
    "    gradients = g.gradient(loss, [weights, bias])\n",
    "    optimizer.apply_gradients(zip(gradients, [weights, bias]))"
   ]
  },
  {
   "cell_type": "markdown",
   "id": "4e544944-07cb-4cf4-9eb2-c1acef3f4a09",
   "metadata": {},
   "source": [
    "#### Running the Model"
   ]
  },
  {
   "cell_type": "code",
   "execution_count": 16,
   "id": "0b9dc376-64b4-4fb6-af89-d08ece462c0c",
   "metadata": {},
   "outputs": [],
   "source": [
    "# initialize the reporting variables\n",
    "display_step = 10\n",
    "epoch_values = []\n",
    "accuracy_values = []\n",
    "loss_values = []\n",
    "loss = 0\n",
    "diff = 1"
   ]
  },
  {
   "cell_type": "code",
   "execution_count": 17,
   "id": "71f662c2-0bc4-4214-a89d-82208f5d880c",
   "metadata": {},
   "outputs": [
    {
     "name": "stdout",
     "output_type": "stream",
     "text": [
      "step 0, training accuracy 0.32, loss 0.135932, change in loss 0.135932\n",
      "step 10, training accuracy 0.32, loss 0.135335, change in loss 0.000596359\n",
      "step 20, training accuracy 0.32, loss 0.134747, change in loss 0.00058794\n",
      "step 30, training accuracy 0.32, loss 0.134168, change in loss 0.000579551\n",
      "step 40, training accuracy 0.32, loss 0.133597, change in loss 0.000571117\n",
      "step 50, training accuracy 0.32, loss 0.133034, change in loss 0.000562698\n",
      "step 60, training accuracy 0.32, loss 0.13248, change in loss 0.000554293\n",
      "step 70, training accuracy 0.32, loss 0.131934, change in loss 0.000545904\n",
      "step 80, training accuracy 0.32, loss 0.131396, change in loss 0.000537515\n",
      "step 90, training accuracy 0.32, loss 0.130867, change in loss 0.00052917\n",
      "step 100, training accuracy 0.32, loss 0.130351, change in loss 0.000515684\n",
      "step 110, training accuracy 0.32, loss 0.129864, change in loss 0.000487223\n",
      "step 120, training accuracy 0.32, loss 0.129384, change in loss 0.000479773\n",
      "step 130, training accuracy 0.32, loss 0.128912, change in loss 0.000472412\n",
      "step 140, training accuracy 0.32, loss 0.128447, change in loss 0.000465035\n",
      "step 150, training accuracy 0.32, loss 0.127989, change in loss 0.000457764\n",
      "step 160, training accuracy 0.32, loss 0.127539, change in loss 0.000450507\n",
      "step 170, training accuracy 0.32, loss 0.127095, change in loss 0.000443324\n",
      "step 180, training accuracy 0.32, loss 0.126659, change in loss 0.000436172\n",
      "step 190, training accuracy 0.32, loss 0.12623, change in loss 0.000429124\n",
      "step 200, training accuracy 0.32, loss 0.125814, change in loss 0.000415832\n",
      "step 210, training accuracy 0.32, loss 0.125419, change in loss 0.000394672\n",
      "step 220, training accuracy 0.32, loss 0.125031, change in loss 0.000388473\n",
      "step 230, training accuracy 0.32, loss 0.124649, change in loss 0.000382327\n",
      "step 240, training accuracy 0.32, loss 0.124272, change in loss 0.000376247\n",
      "step 250, training accuracy 0.32, loss 0.123902, change in loss 0.000370234\n",
      "step 260, training accuracy 0.32, loss 0.123538, change in loss 0.000364304\n",
      "step 270, training accuracy 0.32, loss 0.123179, change in loss 0.000358418\n",
      "step 280, training accuracy 0.32, loss 0.122827, change in loss 0.000352599\n",
      "step 290, training accuracy 0.32, loss 0.12248, change in loss 0.000346862\n",
      "step 300, training accuracy 0.32, loss 0.122146, change in loss 0.000334434\n",
      "step 310, training accuracy 0.32, loss 0.121826, change in loss 0.000319056\n",
      "step 320, training accuracy 0.32, loss 0.121512, change in loss 0.000314064\n",
      "step 330, training accuracy 0.32, loss 0.121203, change in loss 0.000309125\n",
      "step 340, training accuracy 0.32, loss 0.120899, change in loss 0.000304274\n",
      "step 350, training accuracy 0.32, loss 0.1206, change in loss 0.000299476\n",
      "step 360, training accuracy 0.32, loss 0.120305, change in loss 0.00029473\n",
      "step 370, training accuracy 0.32, loss 0.120015, change in loss 0.000290073\n",
      "step 380, training accuracy 0.32, loss 0.119729, change in loss 0.000285454\n",
      "step 390, training accuracy 0.32, loss 0.119448, change in loss 0.000280909\n",
      "step 400, training accuracy 0.32, loss 0.119179, change in loss 0.000269569\n",
      "step 410, training accuracy 0.32, loss 0.11892, change in loss 0.000258625\n",
      "step 420, training accuracy 0.32, loss 0.118665, change in loss 0.000254691\n",
      "step 430, training accuracy 0.32, loss 0.118415, change in loss 0.000250824\n",
      "step 440, training accuracy 0.32, loss 0.118168, change in loss 0.000246994\n",
      "step 450, training accuracy 0.32, loss 0.117924, change in loss 0.000243224\n",
      "step 460, training accuracy 0.32, loss 0.117685, change in loss 0.000239536\n",
      "step 470, training accuracy 0.32, loss 0.117449, change in loss 0.000235863\n",
      "step 480, training accuracy 0.32, loss 0.117217, change in loss 0.000232264\n",
      "step 490, training accuracy 0.32, loss 0.116988, change in loss 0.000228703\n",
      "step 500, training accuracy 0.32, loss 0.11677, change in loss 0.000218503\n",
      "step 510, training accuracy 0.32, loss 0.116559, change in loss 0.000210889\n",
      "step 520, training accuracy 0.32, loss 0.116351, change in loss 0.000207797\n",
      "step 530, training accuracy 0.32, loss 0.116146, change in loss 0.000204779\n",
      "step 540, training accuracy 0.32, loss 0.115944, change in loss 0.000201821\n",
      "step 550, training accuracy 0.32, loss 0.115745, change in loss 0.000198886\n",
      "step 560, training accuracy 0.32, loss 0.115549, change in loss 0.000195995\n",
      "step 570, training accuracy 0.32, loss 0.115356, change in loss 0.000193179\n",
      "step 580, training accuracy 0.32, loss 0.115166, change in loss 0.000190355\n",
      "step 590, training accuracy 0.32, loss 0.114978, change in loss 0.000187606\n",
      "step 600, training accuracy 0.32, loss 0.1148, change in loss 0.000178471\n",
      "step 610, training accuracy 0.32, loss 0.114627, change in loss 0.000173263\n",
      "step 620, training accuracy 0.32, loss 0.114456, change in loss 0.000170887\n",
      "step 630, training accuracy 0.32, loss 0.114287, change in loss 0.00016854\n",
      "step 640, training accuracy 0.32, loss 0.114121, change in loss 0.000166245\n",
      "step 650, training accuracy 0.32, loss 0.113957, change in loss 0.000163965\n",
      "step 660, training accuracy 0.32, loss 0.113795, change in loss 0.00016173\n",
      "step 670, training accuracy 0.32, loss 0.113636, change in loss 0.000159532\n",
      "step 680, training accuracy 0.32, loss 0.113478, change in loss 0.000157356\n",
      "step 690, training accuracy 0.32, loss 0.113323, change in loss 0.00015521\n",
      "final accuracy on test set: 0.32\n"
     ]
    }
   ],
   "source": [
    "# Training Epochs\n",
    "for i in range(numEpochs):\n",
    "    if i > 1 and diff < 0.0001:\n",
    "        print(\"change in loss %g; convergence.\"%diff)\n",
    "        break\n",
    "    else:\n",
    "        # Run training step\n",
    "        run_optimization(trainX, trainY)\n",
    "\n",
    "        # Report occassional stats\n",
    "        if i % display_step == 0:\n",
    "            epoch_values.append(i)\n",
    "\n",
    "            pred = logistic_regression(testX)\n",
    "\n",
    "            newLoss = loss_object(pred, testY)\n",
    "            # Add loss to live graphing variable\n",
    "            loss_values.append(newLoss)\n",
    "\n",
    "            # Generate accuracy stats on test data\n",
    "            acc = accuracy(pred, testY)\n",
    "            accuracy_values.append(acc)\n",
    "\n",
    "            # Re-assign values for variables\n",
    "            diff = abs(newLoss - loss)\n",
    "            loss = newLoss\n",
    "\n",
    "            # Generate print statements\n",
    "            print(\"step %d, training accuracy %g, loss %g, change in loss %g\"%(i, acc, newLoss, diff))\n",
    "\n",
    "print(\"final accuracy on test set: %s\" %acc.numpy())    "
   ]
  },
  {
   "cell_type": "markdown",
   "id": "3c896873-2130-4881-a5c8-599d7208c11e",
   "metadata": {},
   "source": [
    "#### Plotting the change in loss throughout training"
   ]
  },
  {
   "cell_type": "code",
   "execution_count": 18,
   "id": "0bbafc37-2dc5-4e55-b65f-ef9175a34cd0",
   "metadata": {},
   "outputs": [
    {
     "data": {
      "image/png": "[encoded data removed]",
      "text/plain": [
       "<Figure size 640x480 with 1 Axes>"
      ]
     },
     "metadata": {},
     "output_type": "display_data"
    }
   ],
   "source": [
    "%matplotlib inline\n",
    "plt.xlabel(\"Epoch\")\n",
    "plt.ylabel(\"Loss\")\n",
    "plt.plot(loss_values)\n",
    "plt.show()"
   ]
  },
  {
   "cell_type": "code",
   "execution_count": null,
   "id": "c2dfa0a6-06c1-446c-a2d0-fb43a6e1d4db",
   "metadata": {},
   "outputs": [],
   "source": []
  }
 ],
 "metadata": {
  "kernelspec": {
   "display_name": "Python 3 (ipykernel)",
   "language": "python",
   "name": "python3"
  },
  "language_info": {
   "codemirror_mode": {
    "name": "ipython",
    "version": 3
   },
   "file_extension": ".py",
   "mimetype": "text/x-python",
   "name": "python",
   "nbconvert_exporter": "python",
   "pygments_lexer": "ipython3",
   "version": "3.11.11"
  }
 },
 "nbformat": 4,
 "nbformat_minor": 5
}
